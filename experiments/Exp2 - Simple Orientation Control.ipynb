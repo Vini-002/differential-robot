{
 "cells": [
  {
   "cell_type": "markdown",
   "source": [
    "## Exp2 - Simple Orientation Control\n",
    "\n",
    "```\n",
    "Implement a simple ON/OFF without hysteresis\n",
    "```"
   ],
   "metadata": {}
  },
  {
   "cell_type": "code",
   "execution_count": 1,
   "source": [
    "import numpy as np\r\n",
    "import matplotlib.pyplot as plt\r\n",
    "\r\n",
    "from differential_robot import DifferentialRobot"
   ],
   "outputs": [
    {
     "output_type": "stream",
     "name": "stdout",
     "text": [
      "/home/gabriel/kdr\n"
     ]
    }
   ],
   "metadata": {}
  },
  {
   "cell_type": "markdown",
   "source": [
    "### Simulation details"
   ],
   "metadata": {}
  },
  {
   "cell_type": "code",
   "execution_count": 68,
   "source": [
    "sample_time = 0.1 # [s]\r\n",
    "simulation_time = 60 # [s]\r\n",
    "simulation_steps = int(simulation_time / sample_time)"
   ],
   "outputs": [],
   "metadata": {}
  },
  {
   "cell_type": "markdown",
   "source": [
    "### Controller"
   ],
   "metadata": {}
  },
  {
   "cell_type": "code",
   "execution_count": 69,
   "source": [
    "turn_left = (0.5, 1)\r\n",
    "turn_right = (1, 0.5)\r\n",
    "skip = (1, 1)\r\n",
    "\r\n",
    "setpoint = (np.pi / 2) # 90 deg"
   ],
   "outputs": [],
   "metadata": {}
  },
  {
   "cell_type": "markdown",
   "source": [
    "### Start Simulation"
   ],
   "metadata": {}
  },
  {
   "cell_type": "code",
   "execution_count": 70,
   "source": [
    "robot = DifferentialRobot(0, 0, 0, sample_time, 0.025, 0.01)\r\n",
    "path = []\r\n",
    "for step in range(50):\r\n",
    "    \r\n",
    "    x, y, orientation, speed = robot.state()\r\n",
    "    path.append((x, y, orientation, speed))\r\n",
    "    \r\n",
    "    if orientation > setpoint:\r\n",
    "        robot.step(*turn_right)\r\n",
    "    else:\r\n",
    "        robot.step(*turn_left)\r\n",
    "print(f'theta: {orientation:.4f} ; sp: {setpoint:.4f}')\r\n"
   ],
   "outputs": [
    {
     "output_type": "stream",
     "name": "stdout",
     "text": [
      "theta: 1.6250 ; sp: 1.5708\n"
     ]
    }
   ],
   "metadata": {}
  },
  {
   "cell_type": "code",
   "execution_count": null,
   "source": [],
   "outputs": [],
   "metadata": {}
  },
  {
   "cell_type": "code",
   "execution_count": 71,
   "source": [
    "path = np.array(path)"
   ],
   "outputs": [],
   "metadata": {}
  },
  {
   "cell_type": "code",
   "execution_count": 72,
   "source": [
    "plt.figure(figsize=(10, 10))\r\n",
    "plt.title('XY robot position - equal velocities')\r\n",
    "# plt.ylim(-0.2, 1)\r\n",
    "# plt.xlim(-0.2, 1)\r\n",
    "plt.scatter(path[:,0], path[:,1])\r\n",
    "plt.show()"
   ],
   "outputs": [
    {
     "output_type": "display_data",
     "data": {
      "text/plain": [
       "<Figure size 720x720 with 1 Axes>"
      ],
      "image/png": "[encoded data removed]"
     },
     "metadata": {
      "needs_background": "light"
     }
    }
   ],
   "metadata": {}
  },
  {
   "cell_type": "code",
   "execution_count": null,
   "source": [],
   "outputs": [],
   "metadata": {}
  },
  {
   "cell_type": "code",
   "execution_count": null,
   "source": [],
   "outputs": [],
   "metadata": {}
  }
 ],
 "metadata": {
  "kernelspec": {
   "display_name": "Python 3",
   "language": "python",
   "name": "python3"
  },
  "language_info": {
   "codemirror_mode": {
    "name": "ipython",
    "version": 3
   },
   "file_extension": ".py",
   "mimetype": "text/x-python",
   "name": "python",
   "nbconvert_exporter": "python",
   "pygments_lexer": "ipython3",
   "version": "3.8.5"
  }
 },
 "nbformat": 4,
 "nbformat_minor": 5
}